{
  "nbformat": 4,
  "nbformat_minor": 0,
  "metadata": {
    "colab": {
      "provenance": [],
      "gpuType": "T4",
      "authorship_tag": "ABX9TyMMtnPsA4AmFjJQOT8gmE0o",
      "include_colab_link": true
    },
    "kernelspec": {
      "name": "python3",
      "display_name": "Python 3"
    },
    "language_info": {
      "name": "python"
    },
    "accelerator": "GPU"
  },
  "cells": [
    {
      "cell_type": "markdown",
      "metadata": {
        "id": "view-in-github",
        "colab_type": "text"
      },
      "source": [
        "<a href=\"https://colab.research.google.com/github/Nuthan03/Transfer_Learning/blob/main/Fine_tuning.ipynb\" target=\"_parent\"><img src=\"https://colab.research.google.com/assets/colab-badge.svg\" alt=\"Open In Colab\"/></a>"
      ]
    },
    {
      "cell_type": "markdown",
      "source": [
        "# Trasfer Learning with TensorFlow Part 2: Fine-tuning"
      ],
      "metadata": {
        "id": "qrIFHw3JKhKW"
      }
    },
    {
      "cell_type": "code",
      "source": [
        "# Check if we are using the GPU\n",
        "!nvidia-smi"
      ],
      "metadata": {
        "colab": {
          "base_uri": "https://localhost:8080/"
        },
        "id": "N_kZbArd1RlG",
        "outputId": "7805857b-6eb7-4fbf-c266-5be3d30e9087"
      },
      "execution_count": null,
      "outputs": [
        {
          "output_type": "stream",
          "name": "stdout",
          "text": [
            "Thu Nov 30 06:06:17 2023       \n",
            "+-----------------------------------------------------------------------------+\n",
            "| NVIDIA-SMI 525.105.17   Driver Version: 525.105.17   CUDA Version: 12.0     |\n",
            "|-------------------------------+----------------------+----------------------+\n",
            "| GPU  Name        Persistence-M| Bus-Id        Disp.A | Volatile Uncorr. ECC |\n",
            "| Fan  Temp  Perf  Pwr:Usage/Cap|         Memory-Usage | GPU-Util  Compute M. |\n",
            "|                               |                      |               MIG M. |\n",
            "|===============================+======================+======================|\n",
            "|   0  Tesla T4            Off  | 00000000:00:04.0 Off |                    0 |\n",
            "| N/A   53C    P8    10W /  70W |      0MiB / 15360MiB |      0%      Default |\n",
            "|                               |                      |                  N/A |\n",
            "+-------------------------------+----------------------+----------------------+\n",
            "                                                                               \n",
            "+-----------------------------------------------------------------------------+\n",
            "| Processes:                                                                  |\n",
            "|  GPU   GI   CI        PID   Type   Process name                  GPU Memory |\n",
            "|        ID   ID                                                   Usage      |\n",
            "|=============================================================================|\n",
            "|  No running processes found                                                 |\n",
            "+-----------------------------------------------------------------------------+\n"
          ]
        }
      ]
    },
    {
      "cell_type": "markdown",
      "source": [
        "## Creating helper functions\n",
        "In pervious notebooks, we have created a bunch of helper functions, now we could rewrite them all, BUT WE WONT !"
      ],
      "metadata": {
        "id": "XJVn3ARv1bvG"
      }
    },
    {
      "cell_type": "code",
      "source": [
        "!wget https://raw.githubusercontent.com/mrdbourke/tensorflow-deep-learning/main/extras/helper_functions.py"
      ],
      "metadata": {
        "id": "6Vn-d_lE12Ce",
        "colab": {
          "base_uri": "https://localhost:8080/"
        },
        "outputId": "912bfd3a-0d5a-434a-f454-7ceef2db7f9a"
      },
      "execution_count": 1,
      "outputs": [
        {
          "output_type": "stream",
          "name": "stdout",
          "text": [
            "--2023-12-01 08:46:55--  https://raw.githubusercontent.com/mrdbourke/tensorflow-deep-learning/main/extras/helper_functions.py\n",
            "Resolving raw.githubusercontent.com (raw.githubusercontent.com)... 185.199.111.133, 185.199.108.133, 185.199.110.133, ...\n",
            "Connecting to raw.githubusercontent.com (raw.githubusercontent.com)|185.199.111.133|:443... connected.\n",
            "HTTP request sent, awaiting response... 200 OK\n",
            "Length: 10246 (10K) [text/plain]\n",
            "Saving to: ‘helper_functions.py’\n",
            "\n",
            "helper_functions.py 100%[===================>]  10.01K  --.-KB/s    in 0s      \n",
            "\n",
            "2023-12-01 08:46:55 (86.6 MB/s) - ‘helper_functions.py’ saved [10246/10246]\n",
            "\n"
          ]
        }
      ]
    },
    {
      "cell_type": "code",
      "source": [
        "# Import helper function we are going to use in this notebook\n",
        "from helper_functions import create_tensorboard_callback, plot_loss_curves, unzip_data, walk_through_dir"
      ],
      "metadata": {
        "id": "QXKkX98bjzXw"
      },
      "execution_count": 2,
      "outputs": []
    },
    {
      "cell_type": "markdown",
      "source": [
        "## Let's get some data\n",
        "\n",
        "This time we are going to see how to use pretrained models within `tf.keras.applications` and apply them to our own"
      ],
      "metadata": {
        "id": "oID5bE3GkS3T"
      }
    },
    {
      "cell_type": "code",
      "source": [
        "# Get 10% of training data of 10 classes of Food101\n",
        "!wget https://storage.googleapis.com/ztm_tf_course/food_vision/10_food_classes_10_percent.zip\n",
        "\n",
        "unzip_data(\"10_food_classes_10_percent.zip\")"
      ],
      "metadata": {
        "colab": {
          "base_uri": "https://localhost:8080/"
        },
        "id": "mAwBFWIQlXzz",
        "outputId": "921197b4-e9a6-4b58-c8d1-83bc273917a8"
      },
      "execution_count": 3,
      "outputs": [
        {
          "output_type": "stream",
          "name": "stdout",
          "text": [
            "--2023-12-01 08:56:09--  https://storage.googleapis.com/ztm_tf_course/food_vision/10_food_classes_10_percent.zip\n",
            "Resolving storage.googleapis.com (storage.googleapis.com)... 142.251.2.207, 2607:f8b0:4023:c0d::cf\n",
            "Connecting to storage.googleapis.com (storage.googleapis.com)|142.251.2.207|:443... connected.\n",
            "HTTP request sent, awaiting response... 200 OK\n",
            "Length: 168546183 (161M) [application/zip]\n",
            "Saving to: ‘10_food_classes_10_percent.zip’\n",
            "\n",
            "10_food_classes_10_ 100%[===================>] 160.74M   166MB/s    in 1.0s    \n",
            "\n",
            "2023-12-01 08:56:10 (166 MB/s) - ‘10_food_classes_10_percent.zip’ saved [168546183/168546183]\n",
            "\n"
          ]
        }
      ]
    },
    {
      "cell_type": "code",
      "source": [
        "# Check out how many images and subdirectories are in our dataset\n",
        "walk_through_dir(\"10_food_classes_10_percent\")"
      ],
      "metadata": {
        "colab": {
          "base_uri": "https://localhost:8080/"
        },
        "id": "mH0C247sl6mW",
        "outputId": "3c9b532a-661a-4a25-f3ad-d88c1ac99b9b"
      },
      "execution_count": 4,
      "outputs": [
        {
          "output_type": "stream",
          "name": "stdout",
          "text": [
            "There are 2 directories and 0 images in '10_food_classes_10_percent'.\n",
            "There are 10 directories and 0 images in '10_food_classes_10_percent/train'.\n",
            "There are 0 directories and 75 images in '10_food_classes_10_percent/train/steak'.\n",
            "There are 0 directories and 75 images in '10_food_classes_10_percent/train/hamburger'.\n",
            "There are 0 directories and 75 images in '10_food_classes_10_percent/train/grilled_salmon'.\n",
            "There are 0 directories and 75 images in '10_food_classes_10_percent/train/ice_cream'.\n",
            "There are 0 directories and 75 images in '10_food_classes_10_percent/train/chicken_curry'.\n",
            "There are 0 directories and 75 images in '10_food_classes_10_percent/train/pizza'.\n",
            "There are 0 directories and 75 images in '10_food_classes_10_percent/train/chicken_wings'.\n",
            "There are 0 directories and 75 images in '10_food_classes_10_percent/train/fried_rice'.\n",
            "There are 0 directories and 75 images in '10_food_classes_10_percent/train/ramen'.\n",
            "There are 0 directories and 75 images in '10_food_classes_10_percent/train/sushi'.\n",
            "There are 10 directories and 0 images in '10_food_classes_10_percent/test'.\n",
            "There are 0 directories and 250 images in '10_food_classes_10_percent/test/steak'.\n",
            "There are 0 directories and 250 images in '10_food_classes_10_percent/test/hamburger'.\n",
            "There are 0 directories and 250 images in '10_food_classes_10_percent/test/grilled_salmon'.\n",
            "There are 0 directories and 250 images in '10_food_classes_10_percent/test/ice_cream'.\n",
            "There are 0 directories and 250 images in '10_food_classes_10_percent/test/chicken_curry'.\n",
            "There are 0 directories and 250 images in '10_food_classes_10_percent/test/pizza'.\n",
            "There are 0 directories and 250 images in '10_food_classes_10_percent/test/chicken_wings'.\n",
            "There are 0 directories and 250 images in '10_food_classes_10_percent/test/fried_rice'.\n",
            "There are 0 directories and 250 images in '10_food_classes_10_percent/test/ramen'.\n",
            "There are 0 directories and 250 images in '10_food_classes_10_percent/test/sushi'.\n"
          ]
        }
      ]
    },
    {
      "cell_type": "code",
      "source": [
        "# Create training and test directory paths\n",
        "train_dir = \"10_food_classes_10_percent/train\"\n",
        "test_dir = \"10_food_classes_10_percent/test\""
      ],
      "metadata": {
        "id": "ZNx0ay9_mJhb"
      },
      "execution_count": 5,
      "outputs": []
    },
    {
      "cell_type": "code",
      "source": [
        "import tensorflow as tf\n",
        "IMG_SIZE = (224, 224)\n",
        "BATCH_SIZE= 32\n",
        "train_data_10_percent = tf.keras.preprocessing.image_dataset_from_directory(directory=train_dir,\n",
        "                                                                            image_size=IMG_SIZE,\n",
        "                                                                            label_mode=\"categorical\",\n",
        "                                                                            batch_size=BATCH_SIZE)\n",
        "\n",
        "test_data = tf.keras.preprocessing.image_dataset_from_directory(directory=test_dir,\n",
        "                                                                image_size=IMG_SIZE,\n",
        "                                                                label_mode=\"categorical\",\n",
        "                                                                batch_size=BATCH_SIZE)"
      ],
      "metadata": {
        "colab": {
          "base_uri": "https://localhost:8080/"
        },
        "id": "Gww9Atr3nb2D",
        "outputId": "401f80a4-3791-4f9d-cafe-8f8fcde9307f"
      },
      "execution_count": 7,
      "outputs": [
        {
          "output_type": "stream",
          "name": "stdout",
          "text": [
            "Found 750 files belonging to 10 classes.\n",
            "Found 2500 files belonging to 10 classes.\n"
          ]
        }
      ]
    },
    {
      "cell_type": "code",
      "source": [
        "# check the training data datatype\n",
        "train_data_10_percent"
      ],
      "metadata": {
        "colab": {
          "base_uri": "https://localhost:8080/"
        },
        "id": "un0ey-_qoo2U",
        "outputId": "fdfeb8dc-30c3-436e-9cb7-836bc327fe89"
      },
      "execution_count": 8,
      "outputs": [
        {
          "output_type": "execute_result",
          "data": {
            "text/plain": [
              "<_PrefetchDataset element_spec=(TensorSpec(shape=(None, 224, 224, 3), dtype=tf.float32, name=None), TensorSpec(shape=(None, 10), dtype=tf.float32, name=None))>"
            ]
          },
          "metadata": {},
          "execution_count": 8
        }
      ]
    },
    {
      "cell_type": "code",
      "source": [
        "# Check out the class names of our datasets\n",
        "train_data_10_percent.class_names"
      ],
      "metadata": {
        "colab": {
          "base_uri": "https://localhost:8080/"
        },
        "id": "h0BZ2cy_ozqy",
        "outputId": "c02d6ee9-5c90-420c-dbeb-b811423bddc3"
      },
      "execution_count": 9,
      "outputs": [
        {
          "output_type": "execute_result",
          "data": {
            "text/plain": [
              "['chicken_curry',\n",
              " 'chicken_wings',\n",
              " 'fried_rice',\n",
              " 'grilled_salmon',\n",
              " 'hamburger',\n",
              " 'ice_cream',\n",
              " 'pizza',\n",
              " 'ramen',\n",
              " 'steak',\n",
              " 'sushi']"
            ]
          },
          "metadata": {},
          "execution_count": 9
        }
      ]
    },
    {
      "cell_type": "code",
      "source": [
        "# See an example batch of data\n",
        "for images, labels in train_data_10_percent.take(1):\n",
        "  print(images, labels)"
      ],
      "metadata": {
        "colab": {
          "base_uri": "https://localhost:8080/"
        },
        "id": "-rM-XYWZo9K0",
        "outputId": "a1701fa3-d7ba-4bec-ac44-b45acb0e6fc9"
      },
      "execution_count": 10,
      "outputs": [
        {
          "output_type": "stream",
          "name": "stdout",
          "text": [
            "tf.Tensor(\n",
            "[[[[1.71071426e+02 1.24428574e+02 5.13571396e+01]\n",
            "   [1.64668365e+02 1.17668365e+02 4.68622437e+01]\n",
            "   [1.66015305e+02 1.21724487e+02 5.26683693e+01]\n",
            "   ...\n",
            "   [8.43880367e+00 8.43880367e+00 8.43880367e+00]\n",
            "   [8.06641769e+00 8.06641769e+00 8.06641769e+00]\n",
            "   [2.30868626e+01 2.30868626e+01 2.30868626e+01]]\n",
            "\n",
            "  [[1.69102036e+02 1.22102043e+02 5.39591827e+01]\n",
            "   [1.66923462e+02 1.19061218e+02 5.27755127e+01]\n",
            "   [1.62214279e+02 1.17443871e+02 5.22857132e+01]\n",
            "   ...\n",
            "   [9.12753105e+00 9.12753105e+00 9.12753105e+00]\n",
            "   [7.50518131e+00 7.50518131e+00 7.50518131e+00]\n",
            "   [2.03827591e+01 2.03827591e+01 2.03827591e+01]]\n",
            "\n",
            "  [[1.61943878e+02 1.14158165e+02 4.77295914e+01]\n",
            "   [1.65770401e+02 1.17770409e+02 5.33418350e+01]\n",
            "   [1.58647964e+02 1.13244896e+02 5.08622437e+01]\n",
            "   ...\n",
            "   [8.47448540e+00 8.26019955e+00 6.26019955e+00]\n",
            "   [9.09699535e+00 8.88270950e+00 6.88270950e+00]\n",
            "   [1.64898148e+01 1.62755280e+01 1.42755289e+01]]\n",
            "\n",
            "  ...\n",
            "\n",
            "  [[2.17209198e+02 2.30780670e+02 2.30780670e+02]\n",
            "   [2.14698929e+02 2.28270401e+02 2.28270401e+02]\n",
            "   [2.13260162e+02 2.26831635e+02 2.26831635e+02]\n",
            "   ...\n",
            "   [2.56427917e+01 2.52142639e+01 3.54285278e+01]\n",
            "   [3.00409489e+01 2.96124210e+01 3.98266830e+01]\n",
            "   [3.22246552e+01 3.17961273e+01 4.20103912e+01]]\n",
            "\n",
            "  [[2.19979645e+02 2.33979645e+02 2.33979645e+02]\n",
            "   [2.16362259e+02 2.30362259e+02 2.30362259e+02]\n",
            "   [2.17969376e+02 2.31969376e+02 2.31969376e+02]\n",
            "   ...\n",
            "   [2.56428528e+01 2.86428528e+01 3.76428528e+01]\n",
            "   [2.65662460e+01 2.95662460e+01 3.85662460e+01]\n",
            "   [2.96224766e+01 3.30255775e+01 4.20255775e+01]]\n",
            "\n",
            "  [[2.32785858e+02 2.46785858e+02 2.46785858e+02]\n",
            "   [2.23428680e+02 2.37428680e+02 2.37428680e+02]\n",
            "   [2.21000137e+02 2.35000137e+02 2.35000137e+02]\n",
            "   ...\n",
            "   [2.27958832e+01 2.67958832e+01 3.57958832e+01]\n",
            "   [2.35969887e+01 2.75969887e+01 3.65969887e+01]\n",
            "   [2.28163815e+01 2.68163815e+01 3.58163795e+01]]]\n",
            "\n",
            "\n",
            " [[[1.99943878e+02 2.52117340e+02 2.46943878e+02]\n",
            "   [1.92637756e+02 2.45637756e+02 2.39637756e+02]\n",
            "   [1.96153061e+02 2.47647949e+02 2.43142853e+02]\n",
            "   ...\n",
            "   [2.43413223e+02 2.53000000e+02 2.43127502e+02]\n",
            "   [2.42954071e+02 2.52954071e+02 2.42617325e+02]\n",
            "   [2.42357147e+02 2.53000000e+02 2.40071426e+02]]\n",
            "\n",
            "  [[1.95229584e+02 2.50301025e+02 2.45443878e+02]\n",
            "   [1.94688782e+02 2.49760208e+02 2.44903061e+02]\n",
            "   [1.92632660e+02 2.47704086e+02 2.44734695e+02]\n",
            "   ...\n",
            "   [2.41658188e+02 2.52658188e+02 2.44913284e+02]\n",
            "   [2.42928574e+02 2.53928574e+02 2.46204086e+02]\n",
            "   [2.43331665e+02 2.54331665e+02 2.46142853e+02]]\n",
            "\n",
            "  [[1.79729584e+02 2.38086731e+02 2.35872452e+02]\n",
            "   [1.76076538e+02 2.34433685e+02 2.32219391e+02]\n",
            "   [1.92673462e+02 2.50862244e+02 2.49244888e+02]\n",
            "   ...\n",
            "   [2.38260223e+02 2.50045929e+02 2.47188843e+02]\n",
            "   [2.39698990e+02 2.51484711e+02 2.48913254e+02]\n",
            "   [2.40642853e+02 2.52428574e+02 2.48000000e+02]]\n",
            "\n",
            "  ...\n",
            "\n",
            "  [[7.34744644e+01 6.05459404e+01 5.71173515e+01]\n",
            "   [6.99286041e+01 5.70000763e+01 5.35714874e+01]\n",
            "   [7.15714111e+01 5.82142944e+01 5.50000000e+01]\n",
            "   ...\n",
            "   [1.32540833e+02 8.94490051e+01 7.28062134e+01]\n",
            "   [1.35316330e+02 9.33163223e+01 7.93163223e+01]\n",
            "   [1.34938660e+02 9.29386673e+01 7.93672562e+01]]\n",
            "\n",
            "  [[6.63111343e+01 6.03622093e+01 5.44336205e+01]\n",
            "   [7.30051041e+01 6.58622818e+01 5.99336891e+01]\n",
            "   [6.92703934e+01 6.01275749e+01 5.51989861e+01]\n",
            "   ...\n",
            "   [1.30571350e+02 8.71428223e+01 7.05000305e+01]\n",
            "   [1.28505066e+02 8.65050735e+01 7.25050735e+01]\n",
            "   [1.35423477e+02 9.34234772e+01 8.14234772e+01]]\n",
            "\n",
            "  [[6.47448883e+01 6.14897842e+01 5.46173363e+01]\n",
            "   [6.54285889e+01 6.17142944e+01 5.50714417e+01]\n",
            "   [6.47041016e+01 5.87142944e+01 5.27142944e+01]\n",
            "   ...\n",
            "   [1.31224487e+02 8.77959595e+01 7.11531677e+01]\n",
            "   [1.25214325e+02 8.32143250e+01 6.92143250e+01]\n",
            "   [1.34658295e+02 9.26582947e+01 8.06582947e+01]]]\n",
            "\n",
            "\n",
            " [[[1.96540817e+02 1.63826523e+02 1.25596939e+02]\n",
            "   [2.00188782e+02 1.71040817e+02 1.36923462e+02]\n",
            "   [1.79729584e+02 1.56158157e+02 1.29015305e+02]\n",
            "   ...\n",
            "   [1.92142792e+02 1.45581558e+02 4.90203094e+01]\n",
            "   [1.86928558e+02 1.37571411e+02 4.26632690e+01]\n",
            "   [1.89581711e+02 1.39867432e+02 4.72245750e+01]]\n",
            "\n",
            "  [[1.93744888e+02 1.64887756e+02 1.28147949e+02]\n",
            "   [1.94352036e+02 1.67270401e+02 1.36775513e+02]\n",
            "   [1.86030609e+02 1.65244904e+02 1.38887756e+02]\n",
            "   ...\n",
            "   [2.03525391e+02 1.58984619e+02 6.37142258e+01]\n",
            "   [1.89790787e+02 1.44714264e+02 5.16530380e+01]\n",
            "   [1.87311157e+02 1.42831635e+02 5.14285355e+01]]\n",
            "\n",
            "  [[1.89372437e+02 1.63948975e+02 1.33719391e+02]\n",
            "   [1.86612244e+02 1.63397964e+02 1.35897964e+02]\n",
            "   [1.82255096e+02 1.63448975e+02 1.41163269e+02]\n",
            "   ...\n",
            "   [2.09551117e+02 1.62403214e+02 6.81123962e+01]\n",
            "   [2.02433594e+02 1.58091782e+02 6.29489326e+01]\n",
            "   [1.86122177e+02 1.42907883e+02 4.86936035e+01]]\n",
            "\n",
            "  ...\n",
            "\n",
            "  [[2.26214264e+02 2.29214264e+02 2.36214264e+02]\n",
            "   [2.26943878e+02 2.29943878e+02 2.36943878e+02]\n",
            "   [2.28000000e+02 2.31000000e+02 2.38000000e+02]\n",
            "   ...\n",
            "   [1.81785736e+02 1.56571472e+02 1.27214264e+02]\n",
            "   [1.83857178e+02 1.58642914e+02 1.29285706e+02]\n",
            "   [1.84785736e+02 1.59571472e+02 1.30214264e+02]]\n",
            "\n",
            "  [[2.25525482e+02 2.28525482e+02 2.35525482e+02]\n",
            "   [2.26790787e+02 2.29790787e+02 2.36790787e+02]\n",
            "   [2.28071396e+02 2.31071396e+02 2.38071396e+02]\n",
            "   ...\n",
            "   [1.81857178e+02 1.56857178e+02 1.25857178e+02]\n",
            "   [1.83137787e+02 1.58275558e+02 1.26862221e+02]\n",
            "   [1.84000000e+02 1.59403107e+02 1.27193794e+02]]\n",
            "\n",
            "  [[2.25357178e+02 2.28357178e+02 2.35357178e+02]\n",
            "   [2.25357178e+02 2.28357178e+02 2.35357178e+02]\n",
            "   [2.26000000e+02 2.29000000e+02 2.36000000e+02]\n",
            "   ...\n",
            "   [1.82566299e+02 1.58566299e+02 1.24566292e+02]\n",
            "   [1.82285645e+02 1.58285645e+02 1.23479439e+02]\n",
            "   [1.81285645e+02 1.57285645e+02 1.21285645e+02]]]\n",
            "\n",
            "\n",
            " ...\n",
            "\n",
            "\n",
            " [[[4.78724480e+01 7.18724518e+01 1.09872452e+02]\n",
            "   [4.69234695e+01 6.89234695e+01 1.05923470e+02]\n",
            "   [4.26938782e+01 6.19897957e+01 9.87755051e+01]\n",
            "   ...\n",
            "   [1.08868179e+02 1.32516312e+02 1.56164368e+02]\n",
            "   [1.25903099e+02 1.64239899e+02 1.97025650e+02]\n",
            "   [1.08167427e+02 1.58167496e+02 1.95397141e+02]]\n",
            "\n",
            "  [[3.94081612e+01 6.54081650e+01 1.02408165e+02]\n",
            "   [4.44948997e+01 6.84949036e+01 1.06494904e+02]\n",
            "   [4.61173477e+01 6.58316345e+01 1.02632652e+02]\n",
            "   ...\n",
            "   [4.27760696e+01 6.22200775e+01 8.26895142e+01]\n",
            "   [1.13388130e+02 1.47454514e+02 1.75383133e+02]\n",
            "   [1.43683319e+02 1.86969101e+02 2.19086472e+02]]\n",
            "\n",
            "  [[4.11275482e+01 6.86989822e+01 1.05698982e+02]\n",
            "   [3.92244873e+01 6.47959137e+01 1.02010201e+02]\n",
            "   [4.62908173e+01 6.78622437e+01 1.04862244e+02]\n",
            "   ...\n",
            "   [2.08724918e+01 3.36583138e+01 4.98267517e+01]\n",
            "   [4.66534081e+01 7.07657318e+01 9.25106430e+01]\n",
            "   [1.19378632e+02 1.51592987e+02 1.76945053e+02]]\n",
            "\n",
            "  ...\n",
            "\n",
            "  [[7.36326904e+01 5.44183960e+01 5.10612793e+01]\n",
            "   [6.79439011e+01 4.73571854e+01 4.27296448e+01]\n",
            "   [5.92806091e+01 3.56173668e+01 3.17857399e+01]\n",
            "   ...\n",
            "   [3.36428833e+01 1.32397900e+01 7.47450447e+00]\n",
            "   [3.36276054e+01 1.26276045e+01 7.62760448e+00]\n",
            "   [3.54999390e+01 1.44999390e+01 1.10713501e+01]]\n",
            "\n",
            "  [[7.35509567e+01 5.26223679e+01 4.97651901e+01]\n",
            "   [7.30102539e+01 5.21479759e+01 4.90918694e+01]\n",
            "   [7.09390030e+01 4.69083405e+01 4.27654724e+01]\n",
            "   ...\n",
            "   [3.56020737e+01 1.58163376e+01 8.81633759e+00]\n",
            "   [3.50765419e+01 1.40765438e+01 9.07654381e+00]\n",
            "   [3.22396164e+01 1.12396183e+01 6.23961782e+00]]\n",
            "\n",
            "  [[7.66887131e+01 5.04030075e+01 4.41173019e+01]\n",
            "   [7.77601624e+01 4.91173134e+01 4.38316078e+01]\n",
            "   [8.40050583e+01 5.38724098e+01 4.52856903e+01]\n",
            "   ...\n",
            "   [3.80509911e+01 1.82652550e+01 1.12652550e+01]\n",
            "   [3.34490013e+01 1.24490004e+01 7.44900036e+00]\n",
            "   [3.56019859e+01 1.46019859e+01 9.60198593e+00]]]\n",
            "\n",
            "\n",
            " [[[1.93841843e+02 1.94586731e+02 1.89714279e+02]\n",
            "   [1.95071426e+02 1.95357147e+02 1.90714279e+02]\n",
            "   [1.96586731e+02 1.95357147e+02 1.93433670e+02]\n",
            "   ...\n",
            "   [1.48270218e+02 1.13555794e+02 1.16698738e+02]\n",
            "   [1.49479721e+02 9.57194290e+01 1.08505165e+02]\n",
            "   [1.61214218e+02 9.67549515e+01 1.13984566e+02]]\n",
            "\n",
            "  [[1.97877548e+02 1.95596939e+02 1.92000000e+02]\n",
            "   [1.99933670e+02 1.95862244e+02 1.92862244e+02]\n",
            "   [2.00341827e+02 1.95642868e+02 1.93357147e+02]\n",
            "   ...\n",
            "   [1.32535751e+02 9.71631470e+01 1.03066315e+02]\n",
            "   [1.51821579e+02 1.01617409e+02 1.13765404e+02]\n",
            "   [1.65301041e+02 1.06040771e+02 1.23897911e+02]]\n",
            "\n",
            "  [[2.01571426e+02 1.92642853e+02 1.91214279e+02]\n",
            "   [2.02301025e+02 1.93372452e+02 1.91943878e+02]\n",
            "   [2.02785721e+02 1.93168365e+02 1.92428574e+02]\n",
            "   ...\n",
            "   [1.47841919e+02 1.16933662e+02 1.22673485e+02]\n",
            "   [1.57678558e+02 1.17663200e+02 1.28892838e+02]\n",
            "   [1.48295731e+02 1.02290619e+02 1.17504898e+02]]\n",
            "\n",
            "  ...\n",
            "\n",
            "  [[1.94428589e+02 1.74428589e+02 1.73428589e+02]\n",
            "   [1.95000000e+02 1.75000000e+02 1.74000000e+02]\n",
            "   [1.94785706e+02 1.74785706e+02 1.73785706e+02]\n",
            "   ...\n",
            "   [1.51392822e+02 1.25255074e+02 1.53872406e+02]\n",
            "   [1.54045868e+02 1.30117310e+02 1.56117310e+02]\n",
            "   [1.56729507e+02 1.34959122e+02 1.57882584e+02]]\n",
            "\n",
            "  [[1.95071411e+02 1.75071411e+02 1.74071411e+02]\n",
            "   [1.93209152e+02 1.73209152e+02 1.72209152e+02]\n",
            "   [1.93270386e+02 1.73270386e+02 1.72270386e+02]\n",
            "   ...\n",
            "   [1.45081696e+02 1.18438896e+02 1.45653168e+02]\n",
            "   [1.50005219e+02 1.26938911e+02 1.52938919e+02]\n",
            "   [1.53811157e+02 1.34673431e+02 1.56719345e+02]]\n",
            "\n",
            "  [[1.89071442e+02 1.69071442e+02 1.68071442e+02]\n",
            "   [1.89668381e+02 1.69668381e+02 1.68668381e+02]\n",
            "   [1.92214279e+02 1.72214279e+02 1.71214279e+02]\n",
            "   ...\n",
            "   [9.91382294e+01 7.29851837e+01 9.95566559e+01]\n",
            "   [1.22245186e+02 1.00245186e+02 1.23245186e+02]\n",
            "   [1.43408371e+02 1.24408371e+02 1.46408371e+02]]]\n",
            "\n",
            "\n",
            " [[[2.11891266e+02 1.94891266e+02 1.74891266e+02]\n",
            "   [2.11830032e+02 1.94830032e+02 1.74830032e+02]\n",
            "   [2.07847260e+02 1.91061539e+02 1.70418686e+02]\n",
            "   ...\n",
            "   [7.10375443e+01 5.64339676e+01 3.03116417e+01]\n",
            "   [3.17361736e+01 2.58258266e+01 1.69959351e-01]\n",
            "   [2.57120876e+01 2.57051525e+01 5.64173365e+00]]\n",
            "\n",
            "  [[2.12647003e+02 1.95647003e+02 1.75647003e+02]\n",
            "   [2.09463333e+02 1.92463333e+02 1.72463333e+02]\n",
            "   [2.04590881e+02 1.87805176e+02 1.67162308e+02]\n",
            "   ...\n",
            "   [1.53454147e+02 1.38241211e+02 1.08501801e+02]\n",
            "   [2.71924438e+01 1.87986774e+01 1.16403365e+00]\n",
            "   [2.07422981e+01 1.84241009e+01 2.84307122e+00]]\n",
            "\n",
            "  [[2.09611618e+02 1.92611618e+02 1.72611618e+02]\n",
            "   [2.05397324e+02 1.88397324e+02 1.68397324e+02]\n",
            "   [2.04897003e+02 1.88111282e+02 1.67468430e+02]\n",
            "   ...\n",
            "   [2.12050705e+02 1.94559372e+02 1.64001404e+02]\n",
            "   [2.65821533e+01 1.51029434e+01 5.72808743e-01]\n",
            "   [2.82387295e+01 2.24144402e+01 6.79186046e-01]]\n",
            "\n",
            "  ...\n",
            "\n",
            "  [[2.10540237e+02 1.89540237e+02 1.60600830e+02]\n",
            "   [2.14019470e+02 1.93019470e+02 1.64031586e+02]\n",
            "   [2.12812149e+02 1.91812149e+02 1.62812149e+02]\n",
            "   ...\n",
            "   [1.94852402e+02 1.72580032e+02 1.37682724e+02]\n",
            "   [1.94974487e+02 1.72053253e+02 1.37816925e+02]\n",
            "   [1.95860626e+02 1.72860626e+02 1.38860626e+02]]\n",
            "\n",
            "  [[2.12126266e+02 1.91577164e+02 1.64193237e+02]\n",
            "   [2.13582901e+02 1.93033798e+02 1.65078445e+02]\n",
            "   [2.10238205e+02 1.89689102e+02 1.61590897e+02]\n",
            "   ...\n",
            "   [1.95152725e+02 1.73859970e+02 1.33994858e+02]\n",
            "   [1.94540527e+02 1.71599503e+02 1.34330719e+02]\n",
            "   [1.95677612e+02 1.72065674e+02 1.38548813e+02]]\n",
            "\n",
            "  [[2.10714279e+02 1.90714279e+02 1.65478973e+02]\n",
            "   [2.11857147e+02 1.91857147e+02 1.66517258e+02]\n",
            "   [2.09571426e+02 1.89571426e+02 1.63855255e+02]\n",
            "   ...\n",
            "   [1.94642792e+02 1.73603577e+02 1.29398132e+02]\n",
            "   [1.95285767e+02 1.72044388e+02 1.31911407e+02]\n",
            "   [1.97285645e+02 1.72928467e+02 1.40000000e+02]]]], shape=(32, 224, 224, 3), dtype=float32) tf.Tensor(\n",
            "[[1. 0. 0. 0. 0. 0. 0. 0. 0. 0.]\n",
            " [0. 1. 0. 0. 0. 0. 0. 0. 0. 0.]\n",
            " [0. 0. 0. 1. 0. 0. 0. 0. 0. 0.]\n",
            " [0. 0. 0. 1. 0. 0. 0. 0. 0. 0.]\n",
            " [0. 0. 0. 0. 0. 0. 0. 0. 1. 0.]\n",
            " [0. 0. 0. 0. 0. 0. 0. 1. 0. 0.]\n",
            " [1. 0. 0. 0. 0. 0. 0. 0. 0. 0.]\n",
            " [0. 0. 0. 0. 0. 0. 1. 0. 0. 0.]\n",
            " [0. 0. 0. 0. 1. 0. 0. 0. 0. 0.]\n",
            " [0. 0. 0. 0. 0. 0. 0. 0. 0. 1.]\n",
            " [0. 0. 0. 0. 1. 0. 0. 0. 0. 0.]\n",
            " [0. 0. 1. 0. 0. 0. 0. 0. 0. 0.]\n",
            " [0. 0. 0. 0. 1. 0. 0. 0. 0. 0.]\n",
            " [1. 0. 0. 0. 0. 0. 0. 0. 0. 0.]\n",
            " [1. 0. 0. 0. 0. 0. 0. 0. 0. 0.]\n",
            " [0. 0. 1. 0. 0. 0. 0. 0. 0. 0.]\n",
            " [0. 0. 0. 0. 0. 0. 0. 0. 1. 0.]\n",
            " [0. 0. 0. 0. 0. 0. 0. 1. 0. 0.]\n",
            " [1. 0. 0. 0. 0. 0. 0. 0. 0. 0.]\n",
            " [0. 0. 0. 0. 0. 1. 0. 0. 0. 0.]\n",
            " [0. 0. 0. 0. 0. 1. 0. 0. 0. 0.]\n",
            " [0. 0. 0. 1. 0. 0. 0. 0. 0. 0.]\n",
            " [0. 0. 1. 0. 0. 0. 0. 0. 0. 0.]\n",
            " [0. 0. 0. 0. 1. 0. 0. 0. 0. 0.]\n",
            " [0. 1. 0. 0. 0. 0. 0. 0. 0. 0.]\n",
            " [0. 0. 0. 0. 0. 0. 1. 0. 0. 0.]\n",
            " [1. 0. 0. 0. 0. 0. 0. 0. 0. 0.]\n",
            " [0. 0. 0. 0. 0. 0. 0. 0. 0. 1.]\n",
            " [0. 0. 0. 1. 0. 0. 0. 0. 0. 0.]\n",
            " [1. 0. 0. 0. 0. 0. 0. 0. 0. 0.]\n",
            " [0. 0. 0. 0. 0. 0. 0. 1. 0. 0.]\n",
            " [0. 0. 0. 0. 0. 0. 0. 0. 1. 0.]], shape=(32, 10), dtype=float32)\n"
          ]
        }
      ]
    },
    {
      "cell_type": "markdown",
      "source": [
        "## Model 0: Building transfer learning model using the Keras Functional API\n",
        "\n",
        "We're going to go through the following steps:\n",
        "\n",
        "1. Instantiate a pre-trained base model object by choosing a target model such as [`EfficientNetV2B0`](https://www.tensorflow.org/api_docs/python/tf/keras/applications/efficientnet_v2/EfficientNetV2B0) from [`tf.keras.applications.efficientnet_v2`](https://www.tensorflow.org/api_docs/python/tf/keras/applications/efficientnet_v2), setting the `include_top` parameter to `False` (we do this because we're going to create our own top, which are the output layers for the model).\n",
        "2. Set the base model's `trainable` attribute to `False` to freeze all of the weights in the pre-trained model.\n",
        "3. Define an input layer for our model, for example, what shape of data should our model expect?\n",
        "4. [Optional] Normalize the inputs to our model if it requires. Some computer vision models such as `ResNetV250` require their inputs to be between 0 & 1.\n",
        "\n",
        "> 🤔 **Note:** As of writing, the `EfficientNet` (and `EfficientNetV2`) models in the `tf.keras.applications` module do not require images to be normalized (pixel values between 0 and 1) on input, where as many of the other models do. I posted [an issue to the TensorFlow GitHub](https://github.com/tensorflow/tensorflow/issues/42506) about this and they confirmed this.\n",
        "\n",
        "5. Pass the inputs to the base model.\n",
        "6. Pool the outputs of the base model into a shape compatible with the output activation layer (turn base model output tensors into same shape as label tensors). This can be done using [`tf.keras.layers.GlobalAveragePooling2D()`](https://www.tensorflow.org/api_docs/python/tf/keras/layers/GlobalAveragePooling2D) or [`tf.keras.layers.GlobalMaxPooling2D()`](https://www.tensorflow.org/api_docs/python/tf/keras/layers/GlobalMaxPool2D?hl=en) though the former is more common in practice.\n",
        "7. Create an output activation layer using `tf.keras.layers.Dense()` with the appropriate activation function and number of neurons.\n",
        "8. Combine the inputs and outputs layer into a model using [`tf.keras.Model()`](https://www.tensorflow.org/api_docs/python/tf/keras/Model).\n",
        "9. Compile the model using the appropriate loss function and choose of optimizer.\n",
        "10. Fit the model for desired number of epochs and with necessary callbacks (in our case, we'll start off with the TensorBoard callback)."
      ],
      "metadata": {
        "id": "i5Y-7KZjpPT0"
      }
    },
    {
      "cell_type": "code",
      "source": [],
      "metadata": {
        "id": "ci2JPeN2plRr"
      },
      "execution_count": null,
      "outputs": []
    }
  ]
}