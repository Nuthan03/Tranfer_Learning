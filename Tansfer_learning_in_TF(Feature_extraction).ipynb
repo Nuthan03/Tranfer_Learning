{
  "nbformat": 4,
  "nbformat_minor": 0,
  "metadata": {
    "colab": {
      "provenance": [],
      "gpuType": "T4",
      "authorship_tag": "ABX9TyP3LpO3WTVpnH5XMvAHyYH7",
      "include_colab_link": true
    },
    "kernelspec": {
      "name": "python3",
      "display_name": "Python 3"
    },
    "language_info": {
      "name": "python"
    },
    "accelerator": "GPU"
  },
  "cells": [
    {
      "cell_type": "markdown",
      "metadata": {
        "id": "view-in-github",
        "colab_type": "text"
      },
      "source": [
        "<a href=\"https://colab.research.google.com/github/Nuthan03/Tranfer_Learning-Feature-Extraction-/blob/main/Tansfer_learning_in_TF(Feature_extraction).ipynb\" target=\"_parent\"><img src=\"https://colab.research.google.com/assets/colab-badge.svg\" alt=\"Open In Colab\"/></a>"
      ]
    },
    {
      "cell_type": "markdown",
      "source": [
        "# Tansfer Learning with TensorFlow (Feature Extraction)\n",
        "\n",
        "Transfer learning is leveraging a working model's existing architecture and learned patterns for our own problems.\n",
        "There are two main benefits:\n",
        "1. Can leverage an existing neural network architecture proven to work on problems similar to our own.\n",
        "2. Can leverage a working neural network architecture which has already learned patterns on similar data to our own, then we can adapt those to our own data."
      ],
      "metadata": {
        "id": "xz_PODAyCLGW"
      }
    },
    {
      "cell_type": "code",
      "source": [],
      "metadata": {
        "id": "dcmmFNirDbnz"
      },
      "execution_count": null,
      "outputs": []
    }
  ]
}